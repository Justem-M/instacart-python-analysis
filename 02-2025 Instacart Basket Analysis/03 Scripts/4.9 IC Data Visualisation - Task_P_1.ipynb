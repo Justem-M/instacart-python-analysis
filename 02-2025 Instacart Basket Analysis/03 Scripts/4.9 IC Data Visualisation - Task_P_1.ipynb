{
 "cells": [
  {
   "cell_type": "markdown",
   "id": "b61b6ad9-d8a0-463d-b0f2-eb217f089941",
   "metadata": {},
   "source": [
    "# 4.9 IC Intro to Data Visualisation with Python - Task P 1"
   ]
  },
  {
   "cell_type": "markdown",
   "id": "82f5a06d-51ef-482a-8c9f-be27823930dc",
   "metadata": {},
   "source": [
    "## Content  \n",
    "\n",
    "1. **Importing Libraries**\n",
    "2. **Importing Data Frames**\n",
    "3. **Data Wrangling**\n",
    "4. **Data Quality Checks**  \n",
    "   4.1 Missing Values  \n",
    "   4.2 Duplicates  \n",
    "   4.3 Checking and Changing Data Types  \n",
    "5. **Merging the Data Frames**\n",
    "6. **Saving the Data Frames**"
   ]
  },
  {
   "cell_type": "markdown",
   "id": "f102cb00-d836-49e8-8627-1708cd13b491",
   "metadata": {},
   "source": [
    "## 1. Importing Libraries"
   ]
  },
  {
   "cell_type": "code",
   "execution_count": 1,
   "id": "163b420f-b32b-439c-9513-a3357442c07d",
   "metadata": {},
   "outputs": [],
   "source": [
    "# Import libraries\n",
    "import pandas as pd\n",
    "import numpy as np\n",
    "import os"
   ]
  },
  {
   "cell_type": "markdown",
   "id": "e13bbd65-02bb-48bf-9172-51f3c85f17fb",
   "metadata": {
    "jp-MarkdownHeadingCollapsed": true
   },
   "source": [
    "## 2. Importing Data Frames"
   ]
  },
  {
   "cell_type": "code",
   "execution_count": 2,
   "id": "4739ebe6-54ff-46a2-a194-4e525b3b9a8d",
   "metadata": {},
   "outputs": [],
   "source": [
    "# Creating the shortcut\n",
    "path = r'/home/justem/CF - Data Analyst/Achievement 4/02-2025 Instacart Basket Analysis'"
   ]
  },
  {
   "cell_type": "code",
   "execution_count": 3,
   "id": "489b1055-8186-4b48-b548-d7b7af00ace3",
   "metadata": {},
   "outputs": [],
   "source": [
    "# Importing data set customers\n",
    "df_customers = pd.read_csv(os.path.join(path, '02 Data', 'Original Data', 'customers.csv'))"
   ]
  },
  {
   "cell_type": "code",
   "execution_count": 4,
   "id": "01cb528f-a49c-42c7-a3e3-a83a0ea4d216",
   "metadata": {},
   "outputs": [],
   "source": [
    "# Importing latest data set\n",
    "df = pd.read_pickle(os.path.join(path, '02 Data', 'Prepared Data', 'df_ords_prods_merge_agg_variables.pkl'))"
   ]
  },
  {
   "cell_type": "markdown",
   "id": "907e9ddd-b2d8-4d6b-9877-be345c155f11",
   "metadata": {
    "jp-MarkdownHeadingCollapsed": true
   },
   "source": [
    "## 3. Data Wrangling"
   ]
  },
  {
   "cell_type": "code",
   "execution_count": 5,
   "id": "bcdca1cd-ef48-450b-a1fd-8c346438b1be",
   "metadata": {
    "scrolled": true
   },
   "outputs": [
    {
     "data": {
      "text/plain": [
       "(206209, 10)"
      ]
     },
     "execution_count": 5,
     "metadata": {},
     "output_type": "execute_result"
    }
   ],
   "source": [
    "df_customers.shape"
   ]
  },
  {
   "cell_type": "code",
   "execution_count": 6,
   "id": "81240f20-7817-47f8-9b9e-448768ca2b5b",
   "metadata": {},
   "outputs": [
    {
     "data": {
      "text/html": [
       "<div>\n",
       "<style scoped>\n",
       "    .dataframe tbody tr th:only-of-type {\n",
       "        vertical-align: middle;\n",
       "    }\n",
       "\n",
       "    .dataframe tbody tr th {\n",
       "        vertical-align: top;\n",
       "    }\n",
       "\n",
       "    .dataframe thead th {\n",
       "        text-align: right;\n",
       "    }\n",
       "</style>\n",
       "<table border=\"1\" class=\"dataframe\">\n",
       "  <thead>\n",
       "    <tr style=\"text-align: right;\">\n",
       "      <th></th>\n",
       "      <th>user_id</th>\n",
       "      <th>First Name</th>\n",
       "      <th>Surnam</th>\n",
       "      <th>Gender</th>\n",
       "      <th>STATE</th>\n",
       "      <th>Age</th>\n",
       "      <th>date_joined</th>\n",
       "      <th>n_dependants</th>\n",
       "      <th>fam_status</th>\n",
       "      <th>income</th>\n",
       "    </tr>\n",
       "  </thead>\n",
       "  <tbody>\n",
       "    <tr>\n",
       "      <th>0</th>\n",
       "      <td>26711</td>\n",
       "      <td>Deborah</td>\n",
       "      <td>Esquivel</td>\n",
       "      <td>Female</td>\n",
       "      <td>Missouri</td>\n",
       "      <td>48</td>\n",
       "      <td>1/1/2017</td>\n",
       "      <td>3</td>\n",
       "      <td>married</td>\n",
       "      <td>165665</td>\n",
       "    </tr>\n",
       "    <tr>\n",
       "      <th>1</th>\n",
       "      <td>33890</td>\n",
       "      <td>Patricia</td>\n",
       "      <td>Hart</td>\n",
       "      <td>Female</td>\n",
       "      <td>New Mexico</td>\n",
       "      <td>36</td>\n",
       "      <td>1/1/2017</td>\n",
       "      <td>0</td>\n",
       "      <td>single</td>\n",
       "      <td>59285</td>\n",
       "    </tr>\n",
       "    <tr>\n",
       "      <th>2</th>\n",
       "      <td>65803</td>\n",
       "      <td>Kenneth</td>\n",
       "      <td>Farley</td>\n",
       "      <td>Male</td>\n",
       "      <td>Idaho</td>\n",
       "      <td>35</td>\n",
       "      <td>1/1/2017</td>\n",
       "      <td>2</td>\n",
       "      <td>married</td>\n",
       "      <td>99568</td>\n",
       "    </tr>\n",
       "    <tr>\n",
       "      <th>3</th>\n",
       "      <td>125935</td>\n",
       "      <td>Michelle</td>\n",
       "      <td>Hicks</td>\n",
       "      <td>Female</td>\n",
       "      <td>Iowa</td>\n",
       "      <td>40</td>\n",
       "      <td>1/1/2017</td>\n",
       "      <td>0</td>\n",
       "      <td>single</td>\n",
       "      <td>42049</td>\n",
       "    </tr>\n",
       "    <tr>\n",
       "      <th>4</th>\n",
       "      <td>130797</td>\n",
       "      <td>Ann</td>\n",
       "      <td>Gilmore</td>\n",
       "      <td>Female</td>\n",
       "      <td>Maryland</td>\n",
       "      <td>26</td>\n",
       "      <td>1/1/2017</td>\n",
       "      <td>1</td>\n",
       "      <td>married</td>\n",
       "      <td>40374</td>\n",
       "    </tr>\n",
       "  </tbody>\n",
       "</table>\n",
       "</div>"
      ],
      "text/plain": [
       "   user_id First Name    Surnam  Gender       STATE  Age date_joined  \\\n",
       "0    26711    Deborah  Esquivel  Female    Missouri   48    1/1/2017   \n",
       "1    33890   Patricia      Hart  Female  New Mexico   36    1/1/2017   \n",
       "2    65803    Kenneth    Farley    Male       Idaho   35    1/1/2017   \n",
       "3   125935   Michelle     Hicks  Female        Iowa   40    1/1/2017   \n",
       "4   130797        Ann   Gilmore  Female    Maryland   26    1/1/2017   \n",
       "\n",
       "   n_dependants fam_status  income  \n",
       "0             3    married  165665  \n",
       "1             0     single   59285  \n",
       "2             2    married   99568  \n",
       "3             0     single   42049  \n",
       "4             1    married   40374  "
      ]
     },
     "execution_count": 6,
     "metadata": {},
     "output_type": "execute_result"
    }
   ],
   "source": [
    "df_customers.head()"
   ]
  },
  {
   "cell_type": "code",
   "execution_count": 7,
   "id": "5746df94-f398-4534-b908-c597b24f8156",
   "metadata": {},
   "outputs": [],
   "source": [
    "# Renaming columns\n",
    "df_customers.rename(columns={\n",
    "    'Gender': 'gender',\n",
    "    'STATE': 'state',\n",
    "    'Age': 'age',\n",
    "    'n_dependants': 'num_dependants',\n",
    "    'fam_status': 'family_status'\n",
    "}, inplace=True)"
   ]
  },
  {
   "cell_type": "code",
   "execution_count": 8,
   "id": "022e58a0-0df3-4561-acd4-068329356c18",
   "metadata": {},
   "outputs": [],
   "source": [
    "# Dropping columns for privacy and compliance\n",
    "df_customers.drop(columns = ['First Name', 'Surnam'], inplace=True)"
   ]
  },
  {
   "cell_type": "markdown",
   "id": "df8b3acc-bd72-4ee9-8c54-7de8726f4f0f",
   "metadata": {},
   "source": [
    "## 4. Data Quality Checks"
   ]
  },
  {
   "cell_type": "markdown",
   "id": "c25eaf90-fddf-42a0-9d78-dcc89e4bd9cf",
   "metadata": {
    "jp-MarkdownHeadingCollapsed": true
   },
   "source": [
    "### 4.1 Missing Values"
   ]
  },
  {
   "cell_type": "code",
   "execution_count": 9,
   "id": "68c5691a-60fa-46a9-b293-b84035c8161a",
   "metadata": {
    "scrolled": true
   },
   "outputs": [
    {
     "data": {
      "text/plain": [
       "user_id           0\n",
       "gender            0\n",
       "state             0\n",
       "age               0\n",
       "date_joined       0\n",
       "num_dependants    0\n",
       "family_status     0\n",
       "income            0\n",
       "dtype: int64"
      ]
     },
     "execution_count": 9,
     "metadata": {},
     "output_type": "execute_result"
    }
   ],
   "source": [
    "# Finding missing values\n",
    "df_customers.isnull().sum()"
   ]
  },
  {
   "cell_type": "markdown",
   "id": "4f2750d3-bda1-4a87-a47e-92ba93844018",
   "metadata": {},
   "source": [
    "Apparently we have no missing values in this data set"
   ]
  },
  {
   "cell_type": "markdown",
   "id": "43ad2558-b1fd-4d66-9cbe-3a35f2b53122",
   "metadata": {
    "jp-MarkdownHeadingCollapsed": true
   },
   "source": [
    "### 4.2 Duplicates"
   ]
  },
  {
   "cell_type": "code",
   "execution_count": 10,
   "id": "c2a5d4ca-a95a-4a5e-b64f-ceb7d034659e",
   "metadata": {},
   "outputs": [],
   "source": [
    "# Locating duplicates\n",
    "df_dups = df_customers[df_customers.duplicated()]"
   ]
  },
  {
   "cell_type": "markdown",
   "id": "7c042ee9-704b-47b4-8143-0285b7fdab20",
   "metadata": {},
   "source": [
    "The datframe has no duplicates"
   ]
  },
  {
   "cell_type": "markdown",
   "id": "261b31d9-bcff-49d2-8cc7-aabb1671a118",
   "metadata": {
    "jp-MarkdownHeadingCollapsed": true
   },
   "source": [
    "### 4.3 Checking and changing Data Types"
   ]
  },
  {
   "cell_type": "code",
   "execution_count": 11,
   "id": "31038785-c76b-4bb0-b233-8b3d3f183756",
   "metadata": {},
   "outputs": [],
   "source": [
    "# Check for mixed types - had to change the code because the earlier one didn't work anymore\n",
    "for col in df_customers.columns:\n",
    "    col_types = df_customers[col].map(type)\n",
    "    if col_types.nunique() > 1:\n",
    "        print(f\"Mixed types found in column: {col}\")"
   ]
  },
  {
   "cell_type": "code",
   "execution_count": 12,
   "id": "b100d6cc-49a3-4457-9571-86cb225b1ce6",
   "metadata": {},
   "outputs": [],
   "source": [
    "# Changing data type of user_id column ← Not every data type the frame has is useful\n",
    "df_customers['user_id'] = df_customers['user_id'].astype('str')"
   ]
  },
  {
   "cell_type": "markdown",
   "id": "c46fd5d3-ed8c-4c5c-a3f6-55ed6a21dd90",
   "metadata": {},
   "source": [
    "## 5. Merging the Data Frames"
   ]
  },
  {
   "cell_type": "code",
   "execution_count": null,
   "id": "bfc3e6c2-476f-4ee6-a927-eb400c1cb2d6",
   "metadata": {},
   "outputs": [],
   "source": [
    "# Make sure key columns are the same data type"
   ]
  },
  {
   "cell_type": "code",
   "execution_count": 13,
   "id": "d199127c-8f26-45d5-9cfc-64cd8ea702e3",
   "metadata": {},
   "outputs": [],
   "source": [
    "# Changing data type of user_id column\n",
    "df['user_id'] = df['user_id'].astype('str')"
   ]
  },
  {
   "cell_type": "code",
   "execution_count": 14,
   "id": "d9c8ce23-97b4-4e6d-9c2c-d0b11c5d9d48",
   "metadata": {},
   "outputs": [],
   "source": [
    "# Drop the existing _merge column from df\n",
    "df = df.drop(columns=['_merge'], errors='ignore')"
   ]
  },
  {
   "cell_type": "code",
   "execution_count": 15,
   "id": "9c3c20a0-5339-4442-9d1c-e092e3d6361c",
   "metadata": {},
   "outputs": [
    {
     "data": {
      "text/plain": [
       "order_id                     int64\n",
       "user_id                     object\n",
       "order_number                 int64\n",
       "orders_day_of_week           int64\n",
       "order_hour_of_day            int64\n",
       "days_since_prior_order     float64\n",
       "product_id                   int64\n",
       "add_to_cart_order            int64\n",
       "reordered                    int64\n",
       "product_name                object\n",
       "aisle_id                     int64\n",
       "department_id                int64\n",
       "prices                     float64\n",
       "max_order                    int64\n",
       "loyalty_flag                object\n",
       "mean_spending              float64\n",
       "spending_flag               object\n",
       "median_order_prior_days    float64\n",
       "order_frequency_flag        object\n",
       "dtype: object"
      ]
     },
     "execution_count": 15,
     "metadata": {},
     "output_type": "execute_result"
    }
   ],
   "source": [
    "# Checking the data type of the df\n",
    "df.dtypes"
   ]
  },
  {
   "cell_type": "code",
   "execution_count": 16,
   "id": "be036109-2534-434b-8759-74a2afc5a89c",
   "metadata": {},
   "outputs": [
    {
     "data": {
      "text/plain": [
       "user_id           object\n",
       "gender            object\n",
       "state             object\n",
       "age                int64\n",
       "date_joined       object\n",
       "num_dependants     int64\n",
       "family_status     object\n",
       "income             int64\n",
       "dtype: object"
      ]
     },
     "execution_count": 16,
     "metadata": {},
     "output_type": "execute_result"
    }
   ],
   "source": [
    "# Checking the data type of the df_customers\n",
    "df_customers.dtypes"
   ]
  },
  {
   "cell_type": "markdown",
   "id": "ea921a6f-98de-470c-944f-e69137050111",
   "metadata": {},
   "source": [
    "Had to convert the data types to smaller ones because my pc was not able to process the merge even with bigger Swap"
   ]
  },
  {
   "cell_type": "code",
   "execution_count": 17,
   "id": "49eb37b2-34ba-4ad4-8623-638ba64d7af7",
   "metadata": {},
   "outputs": [],
   "source": [
    "# Converting int64 to smaller ints\n",
    "df = df.astype({\n",
    "    'order_id': 'int32',\n",
    "    'order_number': 'int16',\n",
    "    'orders_day_of_week': 'int8',\n",
    "    'order_hour_of_day': 'int8',\n",
    "    'product_id': 'int32',\n",
    "    'add_to_cart_order': 'int16',\n",
    "    'reordered': 'int8',\n",
    "    'aisle_id': 'int16',\n",
    "    'department_id': 'int8',\n",
    "    'max_order': 'int16',\n",
    "})\n",
    "\n",
    "df_customers = df_customers.astype({\n",
    "    'age': 'int8',\n",
    "    'num_dependants': 'int8',\n",
    "    'income': 'int32',\n",
    "})"
   ]
  },
  {
   "cell_type": "code",
   "execution_count": 18,
   "id": "ac6ef914-e4ef-4112-99a8-ce2c15754a56",
   "metadata": {},
   "outputs": [],
   "source": [
    "# Converting float64 to float32\n",
    "df = df.astype({\n",
    "    'days_since_prior_order': 'float32',\n",
    "    'prices': 'float32',\n",
    "    'mean_spending': 'float32',\n",
    "    'median_order_prior_days': 'float32',\n",
    "})"
   ]
  },
  {
   "cell_type": "code",
   "execution_count": 19,
   "id": "56a6e620-6d66-4713-a633-d19f9a0bb0bf",
   "metadata": {},
   "outputs": [],
   "source": [
    "# Converting object columns to category\n",
    "df = df.astype({\n",
    "    'user_id': 'category',\n",
    "    'product_name': 'category',\n",
    "    'loyalty_flag': 'category',\n",
    "    'spending_flag': 'category',\n",
    "    'order_frequency_flag': 'category',\n",
    "})\n",
    "\n",
    "df_customers = df_customers.astype({\n",
    "    'user_id': 'category',\n",
    "    'gender': 'category',\n",
    "    'state': 'category',\n",
    "    'family_status': 'category',\n",
    "})"
   ]
  },
  {
   "cell_type": "code",
   "execution_count": 20,
   "id": "4a392a8c-10e2-4385-8b4a-17dd3ad1ab99",
   "metadata": {},
   "outputs": [],
   "source": [
    "# Converting date_joined to datetime\n",
    "df_customers['date_joined'] = pd.to_datetime(df_customers['date_joined'])"
   ]
  },
  {
   "cell_type": "code",
   "execution_count": 21,
   "id": "37a2030f-e8d5-42c2-8cb0-5f5771d7bd36",
   "metadata": {},
   "outputs": [],
   "source": [
    "# Merging both dataframes with a left join\n",
    "df_ords_prods_customer_merge = df.merge(df_customers, on='user_id', how='left', indicator=True)"
   ]
  },
  {
   "cell_type": "code",
   "execution_count": 17,
   "id": "36a74a75-37c9-4a71-ab67-f39c66d6aacd",
   "metadata": {},
   "outputs": [
    {
     "data": {
      "text/html": [
       "<div>\n",
       "<style scoped>\n",
       "    .dataframe tbody tr th:only-of-type {\n",
       "        vertical-align: middle;\n",
       "    }\n",
       "\n",
       "    .dataframe tbody tr th {\n",
       "        vertical-align: top;\n",
       "    }\n",
       "\n",
       "    .dataframe thead th {\n",
       "        text-align: right;\n",
       "    }\n",
       "</style>\n",
       "<table border=\"1\" class=\"dataframe\">\n",
       "  <thead>\n",
       "    <tr style=\"text-align: right;\">\n",
       "      <th></th>\n",
       "      <th>order_id</th>\n",
       "      <th>user_id</th>\n",
       "      <th>order_number</th>\n",
       "      <th>orders_day_of_week</th>\n",
       "      <th>order_hour_of_day</th>\n",
       "      <th>days_since_prior_order</th>\n",
       "      <th>product_id</th>\n",
       "      <th>add_to_cart_order</th>\n",
       "      <th>reordered</th>\n",
       "      <th>product_name</th>\n",
       "      <th>...</th>\n",
       "      <th>median_order_prior_days</th>\n",
       "      <th>order_frequency_flag</th>\n",
       "      <th>gender</th>\n",
       "      <th>state</th>\n",
       "      <th>age</th>\n",
       "      <th>date_joined</th>\n",
       "      <th>num_dependants</th>\n",
       "      <th>family_status</th>\n",
       "      <th>income</th>\n",
       "      <th>_merge</th>\n",
       "    </tr>\n",
       "  </thead>\n",
       "  <tbody>\n",
       "    <tr>\n",
       "      <th>0</th>\n",
       "      <td>2539329</td>\n",
       "      <td>1</td>\n",
       "      <td>1</td>\n",
       "      <td>2</td>\n",
       "      <td>8</td>\n",
       "      <td>0.0</td>\n",
       "      <td>196</td>\n",
       "      <td>1</td>\n",
       "      <td>0</td>\n",
       "      <td>Soda</td>\n",
       "      <td>...</td>\n",
       "      <td>20.0</td>\n",
       "      <td>Regular customer</td>\n",
       "      <td>Female</td>\n",
       "      <td>Alabama</td>\n",
       "      <td>31</td>\n",
       "      <td>2019-02-17</td>\n",
       "      <td>3</td>\n",
       "      <td>married</td>\n",
       "      <td>40423</td>\n",
       "      <td>both</td>\n",
       "    </tr>\n",
       "    <tr>\n",
       "      <th>1</th>\n",
       "      <td>2539329</td>\n",
       "      <td>1</td>\n",
       "      <td>1</td>\n",
       "      <td>2</td>\n",
       "      <td>8</td>\n",
       "      <td>0.0</td>\n",
       "      <td>14084</td>\n",
       "      <td>2</td>\n",
       "      <td>0</td>\n",
       "      <td>Organic Unsweetened Vanilla Almond Milk</td>\n",
       "      <td>...</td>\n",
       "      <td>20.0</td>\n",
       "      <td>Regular customer</td>\n",
       "      <td>Female</td>\n",
       "      <td>Alabama</td>\n",
       "      <td>31</td>\n",
       "      <td>2019-02-17</td>\n",
       "      <td>3</td>\n",
       "      <td>married</td>\n",
       "      <td>40423</td>\n",
       "      <td>both</td>\n",
       "    </tr>\n",
       "    <tr>\n",
       "      <th>2</th>\n",
       "      <td>2539329</td>\n",
       "      <td>1</td>\n",
       "      <td>1</td>\n",
       "      <td>2</td>\n",
       "      <td>8</td>\n",
       "      <td>0.0</td>\n",
       "      <td>12427</td>\n",
       "      <td>3</td>\n",
       "      <td>0</td>\n",
       "      <td>Original Beef Jerky</td>\n",
       "      <td>...</td>\n",
       "      <td>20.0</td>\n",
       "      <td>Regular customer</td>\n",
       "      <td>Female</td>\n",
       "      <td>Alabama</td>\n",
       "      <td>31</td>\n",
       "      <td>2019-02-17</td>\n",
       "      <td>3</td>\n",
       "      <td>married</td>\n",
       "      <td>40423</td>\n",
       "      <td>both</td>\n",
       "    </tr>\n",
       "    <tr>\n",
       "      <th>3</th>\n",
       "      <td>2539329</td>\n",
       "      <td>1</td>\n",
       "      <td>1</td>\n",
       "      <td>2</td>\n",
       "      <td>8</td>\n",
       "      <td>0.0</td>\n",
       "      <td>26088</td>\n",
       "      <td>4</td>\n",
       "      <td>0</td>\n",
       "      <td>Aged White Cheddar Popcorn</td>\n",
       "      <td>...</td>\n",
       "      <td>20.0</td>\n",
       "      <td>Regular customer</td>\n",
       "      <td>Female</td>\n",
       "      <td>Alabama</td>\n",
       "      <td>31</td>\n",
       "      <td>2019-02-17</td>\n",
       "      <td>3</td>\n",
       "      <td>married</td>\n",
       "      <td>40423</td>\n",
       "      <td>both</td>\n",
       "    </tr>\n",
       "    <tr>\n",
       "      <th>4</th>\n",
       "      <td>2539329</td>\n",
       "      <td>1</td>\n",
       "      <td>1</td>\n",
       "      <td>2</td>\n",
       "      <td>8</td>\n",
       "      <td>0.0</td>\n",
       "      <td>26405</td>\n",
       "      <td>5</td>\n",
       "      <td>0</td>\n",
       "      <td>XL Pick-A-Size Paper Towel Rolls</td>\n",
       "      <td>...</td>\n",
       "      <td>20.0</td>\n",
       "      <td>Regular customer</td>\n",
       "      <td>Female</td>\n",
       "      <td>Alabama</td>\n",
       "      <td>31</td>\n",
       "      <td>2019-02-17</td>\n",
       "      <td>3</td>\n",
       "      <td>married</td>\n",
       "      <td>40423</td>\n",
       "      <td>both</td>\n",
       "    </tr>\n",
       "  </tbody>\n",
       "</table>\n",
       "<p>5 rows × 27 columns</p>\n",
       "</div>"
      ],
      "text/plain": [
       "   order_id user_id  order_number  orders_day_of_week  order_hour_of_day  \\\n",
       "0   2539329       1             1                   2                  8   \n",
       "1   2539329       1             1                   2                  8   \n",
       "2   2539329       1             1                   2                  8   \n",
       "3   2539329       1             1                   2                  8   \n",
       "4   2539329       1             1                   2                  8   \n",
       "\n",
       "   days_since_prior_order  product_id  add_to_cart_order  reordered  \\\n",
       "0                     0.0         196                  1          0   \n",
       "1                     0.0       14084                  2          0   \n",
       "2                     0.0       12427                  3          0   \n",
       "3                     0.0       26088                  4          0   \n",
       "4                     0.0       26405                  5          0   \n",
       "\n",
       "                              product_name  ...  median_order_prior_days  \\\n",
       "0                                     Soda  ...                     20.0   \n",
       "1  Organic Unsweetened Vanilla Almond Milk  ...                     20.0   \n",
       "2                      Original Beef Jerky  ...                     20.0   \n",
       "3               Aged White Cheddar Popcorn  ...                     20.0   \n",
       "4         XL Pick-A-Size Paper Towel Rolls  ...                     20.0   \n",
       "\n",
       "   order_frequency_flag  gender    state age  date_joined num_dependants  \\\n",
       "0      Regular customer  Female  Alabama  31   2019-02-17              3   \n",
       "1      Regular customer  Female  Alabama  31   2019-02-17              3   \n",
       "2      Regular customer  Female  Alabama  31   2019-02-17              3   \n",
       "3      Regular customer  Female  Alabama  31   2019-02-17              3   \n",
       "4      Regular customer  Female  Alabama  31   2019-02-17              3   \n",
       "\n",
       "   family_status income _merge  \n",
       "0        married  40423   both  \n",
       "1        married  40423   both  \n",
       "2        married  40423   both  \n",
       "3        married  40423   both  \n",
       "4        married  40423   both  \n",
       "\n",
       "[5 rows x 27 columns]"
      ]
     },
     "execution_count": 17,
     "metadata": {},
     "output_type": "execute_result"
    }
   ],
   "source": [
    "df_ords_prods_customer_merge.head()"
   ]
  },
  {
   "cell_type": "code",
   "execution_count": 22,
   "id": "40ec2843-8cf7-499b-995e-68b367444e4b",
   "metadata": {},
   "outputs": [
    {
     "data": {
      "text/plain": [
       "(32404859, 27)"
      ]
     },
     "execution_count": 22,
     "metadata": {},
     "output_type": "execute_result"
    }
   ],
   "source": [
    "df_ords_prods_customer_merge.shape"
   ]
  },
  {
   "cell_type": "markdown",
   "id": "cf0ceaf9-33a6-47f2-8b1f-42fcc9d1b6de",
   "metadata": {},
   "source": [
    "## 6. Saving the new Data Frame"
   ]
  },
  {
   "cell_type": "code",
   "execution_count": 19,
   "id": "0ea3fd11-b7fe-4e51-af5a-62edd06d3c55",
   "metadata": {},
   "outputs": [],
   "source": [
    "df_ords_prods_customer_merge.to_pickle(os.path.join(path, '02 Data', 'Prepared Data', 'df_final_data.pkl'))"
   ]
  }
 ],
 "metadata": {
  "kernelspec": {
   "display_name": "Python 3 (ipykernel)",
   "language": "python",
   "name": "python3"
  },
  "language_info": {
   "codemirror_mode": {
    "name": "ipython",
    "version": 3
   },
   "file_extension": ".py",
   "mimetype": "text/x-python",
   "name": "python",
   "nbconvert_exporter": "python",
   "pygments_lexer": "ipython3",
   "version": "3.12.9"
  }
 },
 "nbformat": 4,
 "nbformat_minor": 5
}
