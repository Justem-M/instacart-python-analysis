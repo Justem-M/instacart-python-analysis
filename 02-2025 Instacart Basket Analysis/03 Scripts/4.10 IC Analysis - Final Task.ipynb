{
 "cells": [
  {
   "cell_type": "markdown",
   "id": "e7db5663-1d46-4ee3-b7ad-e0cae4df6fbe",
   "metadata": {},
   "source": [
    "# 4.10 IC Analysis - Final Task"
   ]
  },
  {
   "cell_type": "markdown",
   "id": "ae423be7-036f-40d1-9fe3-74194c3b67f2",
   "metadata": {
    "jp-MarkdownHeadingCollapsed": true
   },
   "source": [
    "## Content\n",
    "\n",
    "1. **Importing Libraries**\n",
    "2. **Importing Dataframe**\n",
    "3. **Consistency Check - Crosstab from Exercise for days_since_prior_order**\n",
    "4. **Task**  \n",
    "   4.1 Note Security Implications  \n",
    "   4.2 \"Region\" Column  \n",
    "   4.3 Exclusion Falg low-activity Customers and Sample Creation  \n",
    "   4.4 Creating profiling Variables  \n",
    "       *4.4.1 Profiling Variable for Age*  \n",
    "       *4.4.2 Profiling Variable for Income*  \n",
    "       *4.4.3 Profiling Variables for certain Goods*  \n",
    "       *4.4.4 Profiling Variables for Number of Dependents*  \n",
    "       *4.4.5 Variable for \"order_day_of_week\"*  \n",
    "        *4.4.6 Implementing Profiles in Data*  \n",
    "       *4.4.7 Visual Distribution of Profiles*  \n",
    "        *4.4.8 Aggregating max, mean and min variables on customer-profile levels for usage frequency and expenditure*  \n",
    "       *4.4.9 Comparing Customer Profiles with Regions and Departments*\n",
    "5. **Additional Graphs for Report**  \n",
    "   5.1 Distribution of Products by Price Range  \n",
    "    5.2 Most Frequently Ordered Departments  \n",
    "    5.3 Brand Loyalty Distribution"
   ]
  },
  {
   "cell_type": "markdown",
   "id": "ffb0b8ec-a3c7-44f2-9ac1-ab5dcbe570fb",
   "metadata": {
    "jp-MarkdownHeadingCollapsed": true
   },
   "source": [
    "## 1. Importing Libraries"
   ]
  },
  {
   "cell_type": "code",
   "execution_count": 1,
   "id": "377c93a1-83eb-49bf-a7e8-d64d969ee2fb",
   "metadata": {},
   "outputs": [],
   "source": [
    "import pandas as pd\n",
    "import numpy as np\n",
    "import os\n",
    "import matplotlib.pyplot as plt\n",
    "import seaborn as sns\n",
    "import scipy"
   ]
  },
  {
   "cell_type": "markdown",
   "id": "f3aa3d12-d639-43f3-b07a-10db66efb212",
   "metadata": {},
   "source": [
    "## 2. Importing Data Frame"
   ]
  },
  {
   "cell_type": "code",
   "execution_count": 17,
   "id": "37804c90-b2f7-4582-9ec5-66d016fbed46",
   "metadata": {},
   "outputs": [],
   "source": [
    "# Creating the shortcut to project folder\n",
    "path = r'/home/justem/CF - Data Analyst/Achievement 4/02-2025 Instacart Basket Analysis'"
   ]
  },
  {
   "cell_type": "code",
   "execution_count": 18,
   "id": "ac062e01-35c1-4e5d-8fc2-2f31f8520934",
   "metadata": {},
   "outputs": [],
   "source": [
    "# Importing final data frame\n",
    "df_final = pd.read_pickle(os.path.join(path, '02 Data', 'Prepared Data', 'df_final_data.pkl'))"
   ]
  },
  {
   "cell_type": "markdown",
   "id": "4a89dade-9431-471e-bd14-f25dddfb20de",
   "metadata": {
    "jp-MarkdownHeadingCollapsed": true
   },
   "source": [
    "## 3. Consistency Check - Crosstab from Exercise for days_since_prior_order"
   ]
  },
  {
   "cell_type": "code",
   "execution_count": null,
   "id": "eccb6942-d502-4c36-a579-1f5da33265cd",
   "metadata": {},
   "outputs": [],
   "source": [
    "# Creating the Crosstab to check the former missing values, that we already changed to \"0\"\n",
    "crosstab_1 = pd.crosstab(df_final['days_since_prior_order'], df_final['order_number'], dropna = False)"
   ]
  },
  {
   "cell_type": "code",
   "execution_count": null,
   "id": "fcb23e51-6b8a-4e48-8f6f-acb80256cdc8",
   "metadata": {},
   "outputs": [],
   "source": [
    "# Trying to copy the Crosstab to the clipboard - apparently this is a Linux issue but does not need to be fixed right now\n",
    "crosstab_1.to_clipboard()"
   ]
  },
  {
   "cell_type": "code",
   "execution_count": null,
   "id": "a4027251-576e-4446-b7e6-180af2d0860c",
   "metadata": {},
   "outputs": [],
   "source": [
    "# Displaying here because copying to Excel did not work - but we copied it to Consistency Check in the Report\n",
    "display(crosstab_1)"
   ]
  },
  {
   "cell_type": "markdown",
   "id": "96ce805f-f77b-4ca6-9f07-282fcb092030",
   "metadata": {},
   "source": [
    "## 4. Task"
   ]
  },
  {
   "cell_type": "markdown",
   "id": "4f840eaf-ea9e-4589-91ab-43ebe34fd7cd",
   "metadata": {
    "jp-MarkdownHeadingCollapsed": true
   },
   "source": [
    "### 4.1 Note Security Implications"
   ]
  },
  {
   "cell_type": "markdown",
   "id": "bdf8f9b4-527f-4789-8570-adf0ec2217c9",
   "metadata": {},
   "source": [
    "The last and first names got removed from the dataframe at an earlier point and nothing at this point can be used to identify any customers. The customer ID can not be used to identify any individuals without access to additional internal data. "
   ]
  },
  {
   "cell_type": "markdown",
   "id": "ba95c648-eab9-4cc6-b8a9-960692053bdf",
   "metadata": {
    "jp-MarkdownHeadingCollapsed": true
   },
   "source": [
    "### 4.2 \"Region\" Column"
   ]
  },
  {
   "cell_type": "code",
   "execution_count": 4,
   "id": "e82fbe68-7b91-4f46-b46e-ed2f4efe4bf3",
   "metadata": {},
   "outputs": [],
   "source": [
    "# Defining the regions\n",
    "region_map = {\n",
    "    # Northeast\n",
    "    'Connecticut': 'Northeast', 'Maine': 'Northeast', 'Massachusetts': 'Northeast',\n",
    "    'New Hampshire': 'Northeast', 'Rhode Island': 'Northeast', 'Vermont': 'Northeast',\n",
    "    'New Jersey': 'Northeast', 'New York': 'Northeast', 'Pennsylvania': 'Northeast',\n",
    "\n",
    "    # Midwest\n",
    "    'Illinois': 'Midwest', 'Indiana': 'Midwest', 'Michigan': 'Midwest',\n",
    "    'Ohio': 'Midwest', 'Wisconsin': 'Midwest', 'Iowa': 'Midwest',\n",
    "    'Kansas': 'Midwest', 'Minnesota': 'Midwest', 'Missouri': 'Midwest',\n",
    "    'Nebraska': 'Midwest', 'North Dakota': 'Midwest', 'South Dakota': 'Midwest',\n",
    "\n",
    "    # South\n",
    "    'Delaware': 'South', 'Florida': 'South', 'Georgia': 'South',\n",
    "    'Maryland': 'South', 'North Carolina': 'South', 'South Carolina': 'South',\n",
    "    'Virginia': 'South', 'District of Columbia': 'South', 'West Virginia': 'South',\n",
    "    'Alabama': 'South', 'Kentucky': 'South', 'Mississippi': 'South',\n",
    "    'Tennessee': 'South', 'Arkansas': 'South', 'Louisiana': 'South',\n",
    "    'Oklahoma': 'South', 'Texas': 'South',\n",
    "\n",
    "    # West\n",
    "    'Arizona': 'West', 'Colorado': 'West', 'Idaho': 'West', 'Montana': 'West',\n",
    "    'Nevada': 'West', 'New Mexico': 'West', 'Utah': 'West', 'Wyoming': 'West',\n",
    "    'Alaska': 'West', 'California': 'West', 'Hawaii': 'West',\n",
    "    'Oregon': 'West', 'Washington': 'West'\n",
    "}"
   ]
  },
  {
   "cell_type": "code",
   "execution_count": 5,
   "id": "71025d3f-a20b-422e-b3f8-ba6dc2f35b38",
   "metadata": {},
   "outputs": [],
   "source": [
    "# Apply the mapping\n",
    "df_final['region'] = df_final['state'].map(region_map)"
   ]
  },
  {
   "cell_type": "code",
   "execution_count": null,
   "id": "85a03fed-a438-4759-a97f-0080d386bfd4",
   "metadata": {},
   "outputs": [],
   "source": [
    "df_final.head()"
   ]
  },
  {
   "cell_type": "code",
   "execution_count": null,
   "id": "38b946a7-346c-4184-bed3-9b84ead30d80",
   "metadata": {},
   "outputs": [],
   "source": [
    "# Crosstab spending flag and region\n",
    "crosstab = pd.crosstab(df_final['spending_flag'], df_final['region'], dropna = False)"
   ]
  },
  {
   "cell_type": "code",
   "execution_count": null,
   "id": "7dcddac9-7a09-4bec-9cd4-b933f7b0b5e7",
   "metadata": {},
   "outputs": [],
   "source": [
    "# Showing crosstab\n",
    "display(crosstab)"
   ]
  },
  {
   "cell_type": "code",
   "execution_count": null,
   "id": "f5f87ee8-9408-43bf-bea7-184273c03478",
   "metadata": {
    "scrolled": true
   },
   "outputs": [],
   "source": [
    "# Plot grouped bar chart\n",
    "crosstab.plot(kind='bar', figsize=(10,6))\n",
    "plt.title('Spending Behaviour by US Region')\n",
    "plt.ylabel('Number of Customers')\n",
    "plt.xlabel('Region')\n",
    "plt.xticks(rotation=45)\n",
    "plt.legend(title='Spending Flag')\n",
    "plt.tight_layout()"
   ]
  },
  {
   "cell_type": "markdown",
   "id": "7bf59ccb-6e17-4bfe-83bd-08852d834dd6",
   "metadata": {},
   "source": [
    "This is not good to compare the regions for the High Spenders as well so I created two different bar Charts for that."
   ]
  },
  {
   "cell_type": "code",
   "execution_count": null,
   "id": "b3c53e55-7a39-40bc-adb3-c8c3182c3118",
   "metadata": {},
   "outputs": [],
   "source": [
    "# Data\n",
    "regions = ['Midwest', 'Northeast', 'South', 'West']\n",
    "high_spenders = [155975, 108225, 209691, 160354]\n",
    "\n",
    "# Colour-blind palette\n",
    "cb_palette = ['#377eb8', '#ff7f00', '#4daf4a', '#e41a1c']  # Blue, Orange, Green, Red\n",
    "region_order = ['Midwest', 'Northeast', 'South', 'West']\n",
    "region_colours_cb = dict(zip(region_order, cb_palette))\n",
    "\n",
    "# DataFrame\n",
    "df_high = pd.DataFrame({'Region': regions, 'High Spenders': high_spenders})\n",
    "df_high_sorted = df_high.sort_values(by='High Spenders', ascending=False)\n",
    "colours_high = df_high_sorted['Region'].map(region_colours_cb)\n",
    "\n",
    "# Plot\n",
    "plt.figure(figsize=(8, 5))\n",
    "plt.bar(df_high_sorted['Region'], df_high_sorted['High Spenders'], color=colours_high)\n",
    "plt.title('Number of High Spenders by Region')\n",
    "plt.ylabel('Number of Customers')\n",
    "plt.xlabel('Region')\n",
    "plt.tight_layout()\n",
    "plt.show()"
   ]
  },
  {
   "cell_type": "code",
   "execution_count": null,
   "id": "06ece13f-4e01-4cfe-a85e-eea33ab482c2",
   "metadata": {},
   "outputs": [],
   "source": [
    "# Low spenders data\n",
    "low_spenders = [7441350, 5614511, 10582194, 8132559]\n",
    "\n",
    "# DataFrame\n",
    "df_low = pd.DataFrame({'Region': regions, 'Low Spenders': low_spenders})\n",
    "df_low_sorted = df_low.sort_values(by='Low Spenders', ascending=False)\n",
    "colours_low = df_low_sorted['Region'].map(region_colours_cb)\n",
    "\n",
    "# Plot\n",
    "plt.figure(figsize=(8, 5))\n",
    "plt.bar(df_low_sorted['Region'], df_low_sorted['Low Spenders'], color=colours_low)\n",
    "plt.title('Number of Low Spenders by Region')\n",
    "plt.ylabel('Number of Customers')\n",
    "plt.xlabel('Region')\n",
    "plt.ticklabel_format(style='plain', axis='y') #Disabaling scientific version\n",
    "plt.show()"
   ]
  },
  {
   "cell_type": "markdown",
   "id": "91770c48-a848-4360-b02c-d39dfd3d70d4",
   "metadata": {
    "jp-MarkdownHeadingCollapsed": true
   },
   "source": [
    "### 4.3 Exclusion Flag low-activity Customers and Sample Creation"
   ]
  },
  {
   "cell_type": "code",
   "execution_count": null,
   "id": "1d293361-1185-4b11-9be9-e275331c339f",
   "metadata": {},
   "outputs": [],
   "source": [
    "# Count total orders per user\n",
    "order_counts = df_final['user_id'].value_counts()"
   ]
  },
  {
   "cell_type": "code",
   "execution_count": null,
   "id": "742a973c-51b4-44ac-bf3e-fc578b3c465d",
   "metadata": {},
   "outputs": [],
   "source": [
    "# Mapping that back to the original df\n",
    "df_final['total_orders'] = df_final['user_id'].map(order_counts)"
   ]
  },
  {
   "cell_type": "code",
   "execution_count": null,
   "id": "7f5b427c-004f-4881-9873-40962724f286",
   "metadata": {},
   "outputs": [],
   "source": [
    "df_final.shape"
   ]
  },
  {
   "cell_type": "code",
   "execution_count": null,
   "id": "44042f2a-0d83-4fe7-b982-8d7362aaf6cf",
   "metadata": {},
   "outputs": [],
   "source": [
    "df_final['low_activity_flag'] = df_final['total_orders'] < 5"
   ]
  },
  {
   "cell_type": "code",
   "execution_count": null,
   "id": "7fe1f064-1a56-4bd5-943c-cd57a06a1246",
   "metadata": {},
   "outputs": [],
   "source": [
    "df_final.head()"
   ]
  },
  {
   "cell_type": "code",
   "execution_count": null,
   "id": "ede0a052-8ba4-4d09-8ff0-a147783de13c",
   "metadata": {},
   "outputs": [],
   "source": [
    "df_final['low_activity_flag'].value_counts(dropna = False)"
   ]
  },
  {
   "cell_type": "code",
   "execution_count": null,
   "id": "07c7716d-7453-4d11-8580-3671b17f1eb7",
   "metadata": {},
   "outputs": [],
   "source": [
    "# Creating df with excluding low-activity customers\n",
    "df_excluded = df_final[df_final['low_activity_flag'] == False]"
   ]
  },
  {
   "cell_type": "code",
   "execution_count": null,
   "id": "4b9c3044-cf8c-498a-a7ee-5f84b4ea60f1",
   "metadata": {},
   "outputs": [],
   "source": [
    "df_excluded['low_activity_flag'].value_counts(dropna = False)"
   ]
  },
  {
   "cell_type": "code",
   "execution_count": null,
   "id": "ded077ed-0220-407f-9d4b-dda539fc956a",
   "metadata": {},
   "outputs": [],
   "source": [
    "df_excluded.head()"
   ]
  },
  {
   "cell_type": "code",
   "execution_count": null,
   "id": "5b017ace-1ce6-4b42-9182-716ce446d483",
   "metadata": {},
   "outputs": [],
   "source": [
    "# Saving the df\n",
    "df_excluded.to_pickle(os.path.join(path, '02 Data', 'Prepared Data', 'df_excluded.pkl'))"
   ]
  },
  {
   "cell_type": "markdown",
   "id": "0bc99222-b32a-4a33-9c7b-b7be65c64010",
   "metadata": {},
   "source": [
    "### 4.4 Creating profiling Variables"
   ]
  },
  {
   "cell_type": "markdown",
   "id": "7d69fb98-b78d-452f-beb7-7c56ea50ed37",
   "metadata": {
    "jp-MarkdownHeadingCollapsed": true
   },
   "source": [
    "#### 4.4.1 Profiling Variable for Age"
   ]
  },
  {
   "cell_type": "code",
   "execution_count": 6,
   "id": "2cb178e0-be3c-4471-9432-0bfbbd1dd4e4",
   "metadata": {},
   "outputs": [],
   "source": [
    "# Assigning \"age_group\" label \"Young_adult\" to customers age < 25\n",
    "df_final.loc[df_final['age'] < 25, 'age_group'] = 'Young_adult'"
   ]
  },
  {
   "cell_type": "code",
   "execution_count": 7,
   "id": "eb661864-7675-4d31-bd60-45cea84e9e43",
   "metadata": {},
   "outputs": [],
   "source": [
    "# Assigning \"age_group\" label \"Adult\" to customers age >= 25 & < 40\n",
    "df_final.loc[(df_final['age'] >= 25) & (df_final['age'] < 40), 'age_group'] = 'Adult'"
   ]
  },
  {
   "cell_type": "code",
   "execution_count": 8,
   "id": "a7bc2492-33e0-4b42-8583-e05b042d5cd2",
   "metadata": {},
   "outputs": [],
   "source": [
    "# Assigning \"age_group\" label \"Middle-aged\" to customers age >= 40 & < 60\n",
    "df_final.loc[(df_final['age'] >= 40) & (df_final['age'] < 60), 'age_group'] = 'Middle-aged'"
   ]
  },
  {
   "cell_type": "code",
   "execution_count": 9,
   "id": "d7163db4-80ff-4650-a05f-3f58170313f7",
   "metadata": {},
   "outputs": [],
   "source": [
    "# Assigning \"age_group\" label \"Senior\" to customers age >= 60\n",
    "df_final.loc[df_final['age'] >= 60, 'age_group'] = 'Senior'"
   ]
  },
  {
   "cell_type": "code",
   "execution_count": null,
   "id": "9ef937f2-d504-403d-8bd0-e2d04053e384",
   "metadata": {},
   "outputs": [],
   "source": [
    "# Printing frequency\n",
    "df_final['age_group'].value_counts(dropna = False)"
   ]
  },
  {
   "cell_type": "code",
   "execution_count": null,
   "id": "22f8d7fc-5f81-4ee7-9380-fbe35565a9ad",
   "metadata": {},
   "outputs": [],
   "source": [
    "# Checking column\n",
    "df_final['age_group']"
   ]
  },
  {
   "cell_type": "code",
   "execution_count": null,
   "id": "8efce6c2-8dbb-4d67-8e99-830f77fbebc3",
   "metadata": {
    "scrolled": true
   },
   "outputs": [],
   "source": [
    "# Multiple columns with head() function\n",
    "df_final[['age', 'age_group']].head(100)"
   ]
  },
  {
   "cell_type": "markdown",
   "id": "863a7b9c-a1df-41a7-afd4-87483e9ed2e2",
   "metadata": {
    "jp-MarkdownHeadingCollapsed": true
   },
   "source": [
    "#### 4.4.2 Profiling Variable for Income"
   ]
  },
  {
   "cell_type": "code",
   "execution_count": null,
   "id": "e84b3210-e669-4f53-9799-97a641a4f12d",
   "metadata": {},
   "outputs": [],
   "source": [
    "# Assigning \"income_group\" label \"low_income\" to customers income <= 50.000\n",
    "df_final.loc[df_final['income'] <= 50000, 'income_group'] = 'low_income'"
   ]
  },
  {
   "cell_type": "code",
   "execution_count": null,
   "id": "186bb64f-d5ee-4e0e-9fee-d1b4ae29b48d",
   "metadata": {},
   "outputs": [],
   "source": [
    "# Assigning \"income_group\" label \"middle_income\" to customers income > 50.000 & < 150.000\n",
    "df_final.loc[(df_final['income'] > 50000) & (df_final['income'] <= 150000), 'income_group'] = 'middle_income'"
   ]
  },
  {
   "cell_type": "code",
   "execution_count": null,
   "id": "2c2ca6f6-918b-4e41-a650-a2fda14f1803",
   "metadata": {},
   "outputs": [],
   "source": [
    "# Assigning \"income_group\" label \"high_income\" to customers income > 150.000\n",
    "df_final.loc[df_final['income'] > 150000, 'income_group'] = 'high_income'"
   ]
  },
  {
   "cell_type": "code",
   "execution_count": null,
   "id": "a2409c98-b83b-41dc-b9c1-cf2aa830d300",
   "metadata": {},
   "outputs": [],
   "source": [
    "df_final.columns"
   ]
  },
  {
   "cell_type": "code",
   "execution_count": null,
   "id": "7ed16b42-790a-40fc-8291-c74ab5aca713",
   "metadata": {},
   "outputs": [],
   "source": [
    "df_final.head()"
   ]
  },
  {
   "cell_type": "code",
   "execution_count": null,
   "id": "9ad4115b-f2ed-4e9e-adc8-549f9acd2466",
   "metadata": {},
   "outputs": [],
   "source": [
    "# Printing frequency\n",
    "df_final['income_group'].value_counts(dropna = False)"
   ]
  },
  {
   "cell_type": "code",
   "execution_count": null,
   "id": "3077e215-0926-432b-99ce-abb3fcc0bed4",
   "metadata": {},
   "outputs": [],
   "source": [
    "# Checking column\n",
    "df_final['income_group']"
   ]
  },
  {
   "cell_type": "code",
   "execution_count": null,
   "id": "85117c00-5e8e-4643-9966-88fa59dc98f5",
   "metadata": {},
   "outputs": [],
   "source": [
    "# Multiple columns with head() function\n",
    "df_final[['income', 'income_group']].head(100)"
   ]
  },
  {
   "cell_type": "markdown",
   "id": "36103428-1206-4f48-acea-dedd932f1bf3",
   "metadata": {},
   "source": [
    "#### 4.4.3 Profiling Variables for certain Goods"
   ]
  },
  {
   "cell_type": "code",
   "execution_count": 29,
   "id": "aa34bcb3-4a42-45e4-bb40-978e43865c47",
   "metadata": {},
   "outputs": [],
   "source": [
    "# Creating mapping dictionary\n",
    "department_map = {\n",
    "    1: 'frozen',\n",
    "    2: 'other',\n",
    "    3: 'bakery',\n",
    "    4: 'produce',\n",
    "    5: 'alcohol',\n",
    "    6: 'international',\n",
    "    7: 'beverages',\n",
    "    8: 'pets',\n",
    "    9: 'dry goods pasta',\n",
    "    10: 'bulk',\n",
    "    11: 'personal care',\n",
    "    12: 'meat seafood',\n",
    "    13: 'pantry',\n",
    "    14: 'breakfast',\n",
    "    15: 'canned goods',\n",
    "    16: 'dairy eggs',\n",
    "    17: 'household',\n",
    "    18: 'babies',\n",
    "    19: 'snacks',\n",
    "    20: 'deli',\n",
    "    21: 'missing'\n",
    "}\n",
    "\n",
    "# Mapping department_id to grocery_category\n",
    "df_final['grocery_category'] = df_final['department_id'].map(department_map)"
   ]
  },
  {
   "cell_type": "code",
   "execution_count": 30,
   "id": "fe101de4-227d-45d4-9984-70b61fb53b40",
   "metadata": {},
   "outputs": [
    {
     "data": {
      "text/plain": [
       "grocery_category\n",
       "produce            9479291\n",
       "dairy eggs         5398747\n",
       "snacks             2887550\n",
       "beverages          2688123\n",
       "frozen             2234743\n",
       "pantry             1875369\n",
       "bakery             1172428\n",
       "canned goods       1068058\n",
       "deli               1051249\n",
       "dry goods pasta     866627\n",
       "household           738666\n",
       "meat seafood        708927\n",
       "breakfast           703033\n",
       "personal care       447572\n",
       "babies              423802\n",
       "international       269253\n",
       "alcohol             153696\n",
       "pets                 97716\n",
       "missing              69145\n",
       "other                36291\n",
       "bulk                 34573\n",
       "Name: count, dtype: int64"
      ]
     },
     "execution_count": 30,
     "metadata": {},
     "output_type": "execute_result"
    }
   ],
   "source": [
    "# Printing frequency\n",
    "df_final['grocery_category'].value_counts(dropna = False)"
   ]
  },
  {
   "cell_type": "code",
   "execution_count": null,
   "id": "a41bcbd8-9491-48f6-9d2d-c51c6d0a85ec",
   "metadata": {},
   "outputs": [],
   "source": [
    "# Multiple columns with head() function\n",
    "df_final[['department_id', 'grocery_category']].head(100)"
   ]
  },
  {
   "cell_type": "markdown",
   "id": "a90d0249-a350-45a2-83fd-19432b90929a",
   "metadata": {
    "jp-MarkdownHeadingCollapsed": true
   },
   "source": [
    "#### 4.4.4 Profiling Variables for Number of Dependents"
   ]
  },
  {
   "cell_type": "code",
   "execution_count": 11,
   "id": "f62c6555-ed54-4a45-875d-1dd534950984",
   "metadata": {},
   "outputs": [],
   "source": [
    "# Assigning \"dependents_group\" label \"Single_Household\" to customers num dependents < 1\n",
    "df_final.loc[df_final['num_dependants'] < 1, 'dependents_group'] = 'Single_Household'"
   ]
  },
  {
   "cell_type": "code",
   "execution_count": 12,
   "id": "666903ac-ebb9-46fe-b853-899142dbeabb",
   "metadata": {},
   "outputs": [],
   "source": [
    "# Assigning \"dependents_group\" label \"Parent_Household\" to customers num dependents >= 1\n",
    "df_final.loc[df_final['num_dependants'] >= 1, 'dependents_group'] = 'Parent_Household'"
   ]
  },
  {
   "cell_type": "code",
   "execution_count": null,
   "id": "320e5209-723a-415d-8282-67e9327ebf4c",
   "metadata": {},
   "outputs": [],
   "source": [
    "# Printing frequency\n",
    "df_final['dependents_group'].value_counts(dropna = False)"
   ]
  },
  {
   "cell_type": "code",
   "execution_count": null,
   "id": "04756809-816a-4ecf-933b-cffa6f0dc687",
   "metadata": {},
   "outputs": [],
   "source": [
    "# Multiple columns with head() function\n",
    "df_final[['num_dependants', 'dependents_group']].head(100)"
   ]
  },
  {
   "cell_type": "markdown",
   "id": "77f62b39-3dad-4208-87b7-e0ab122eacd4",
   "metadata": {
    "jp-MarkdownHeadingCollapsed": true
   },
   "source": [
    "#### 4.4.5 Variable for \"orders_day_of_week\""
   ]
  },
  {
   "cell_type": "code",
   "execution_count": 13,
   "id": "8447cc97-8158-420e-b65b-83ad64f9338b",
   "metadata": {},
   "outputs": [],
   "source": [
    "# Create a mapping dictionary\n",
    "dow_map = {\n",
    "    0: 'Saturday',\n",
    "    1: 'Sunday',\n",
    "    2: 'Monday',\n",
    "    3: 'Tuesday',\n",
    "    4: 'Wednesday',\n",
    "    5: 'Thursday',\n",
    "    6: 'Friday'\n",
    "}\n",
    "\n",
    "# Mapping day names into a new column\n",
    "df_final['order_dow_name'] = df_final['orders_day_of_week'].map(dow_map)"
   ]
  },
  {
   "cell_type": "code",
   "execution_count": null,
   "id": "b8ed6c65-cc54-4787-ad1d-5c9f43936015",
   "metadata": {},
   "outputs": [],
   "source": [
    "# Printing frequency\n",
    "df_final['order_dow_name'].value_counts(dropna = False)"
   ]
  },
  {
   "cell_type": "code",
   "execution_count": null,
   "id": "aaa93104-6cf0-4d79-b427-75fff2e9abce",
   "metadata": {},
   "outputs": [],
   "source": [
    "# Multiple columns with head() function\n",
    "df_final[['orders_day_of_week', 'order_dow_name']].head(100)"
   ]
  },
  {
   "cell_type": "markdown",
   "id": "51697c18-3d37-44bb-b6fe-606b41f9d929",
   "metadata": {},
   "source": [
    "#### 4.4.6 Implementing Profiles in Data"
   ]
  },
  {
   "cell_type": "code",
   "execution_count": 14,
   "id": "6d7654b2-6855-4dcb-a175-768f1531eb26",
   "metadata": {},
   "outputs": [],
   "source": [
    "# Creating new column for customer profile\n",
    "df_final['customer_profile'] = None"
   ]
  },
  {
   "cell_type": "code",
   "execution_count": 15,
   "id": "1a808b6c-d46f-4939-bda4-b5b571b27de2",
   "metadata": {},
   "outputs": [
    {
     "ename": "KeyError",
     "evalue": "'income_group'",
     "output_type": "error",
     "traceback": [
      "\u001b[0;31m---------------------------------------------------------------------------\u001b[0m",
      "\u001b[0;31mKeyError\u001b[0m                                  Traceback (most recent call last)",
      "File \u001b[0;32m~/miniconda3/lib/python3.12/site-packages/pandas/core/indexes/base.py:3805\u001b[0m, in \u001b[0;36mIndex.get_loc\u001b[0;34m(self, key)\u001b[0m\n\u001b[1;32m   3804\u001b[0m \u001b[38;5;28;01mtry\u001b[39;00m:\n\u001b[0;32m-> 3805\u001b[0m     \u001b[38;5;28;01mreturn\u001b[39;00m \u001b[38;5;28mself\u001b[39m\u001b[38;5;241m.\u001b[39m_engine\u001b[38;5;241m.\u001b[39mget_loc(casted_key)\n\u001b[1;32m   3806\u001b[0m \u001b[38;5;28;01mexcept\u001b[39;00m \u001b[38;5;167;01mKeyError\u001b[39;00m \u001b[38;5;28;01mas\u001b[39;00m err:\n",
      "File \u001b[0;32mindex.pyx:167\u001b[0m, in \u001b[0;36mpandas._libs.index.IndexEngine.get_loc\u001b[0;34m()\u001b[0m\n",
      "File \u001b[0;32mindex.pyx:196\u001b[0m, in \u001b[0;36mpandas._libs.index.IndexEngine.get_loc\u001b[0;34m()\u001b[0m\n",
      "File \u001b[0;32mpandas/_libs/hashtable_class_helper.pxi:7081\u001b[0m, in \u001b[0;36mpandas._libs.hashtable.PyObjectHashTable.get_item\u001b[0;34m()\u001b[0m\n",
      "File \u001b[0;32mpandas/_libs/hashtable_class_helper.pxi:7089\u001b[0m, in \u001b[0;36mpandas._libs.hashtable.PyObjectHashTable.get_item\u001b[0;34m()\u001b[0m\n",
      "\u001b[0;31mKeyError\u001b[0m: 'income_group'",
      "\nThe above exception was the direct cause of the following exception:\n",
      "\u001b[0;31mKeyError\u001b[0m                                  Traceback (most recent call last)",
      "Cell \u001b[0;32mIn[15], line 5\u001b[0m\n\u001b[1;32m      1\u001b[0m \u001b[38;5;66;03m# Assigning basic customer profiles based on combinations\u001b[39;00m\n\u001b[1;32m      3\u001b[0m df_final\u001b[38;5;241m.\u001b[39mloc[\n\u001b[1;32m      4\u001b[0m     (df_final[\u001b[38;5;124m'\u001b[39m\u001b[38;5;124mage_group\u001b[39m\u001b[38;5;124m'\u001b[39m] \u001b[38;5;241m==\u001b[39m \u001b[38;5;124m'\u001b[39m\u001b[38;5;124mYoung_adult\u001b[39m\u001b[38;5;124m'\u001b[39m) \u001b[38;5;241m&\u001b[39m \n\u001b[0;32m----> 5\u001b[0m     (df_final[\u001b[38;5;124m'\u001b[39m\u001b[38;5;124mincome_group\u001b[39m\u001b[38;5;124m'\u001b[39m]\u001b[38;5;241m.\u001b[39misin([\u001b[38;5;124m'\u001b[39m\u001b[38;5;124mlow_income\u001b[39m\u001b[38;5;124m'\u001b[39m, \u001b[38;5;124m'\u001b[39m\u001b[38;5;124mmiddle_income\u001b[39m\u001b[38;5;124m'\u001b[39m])) \u001b[38;5;241m&\u001b[39m \n\u001b[1;32m      6\u001b[0m     (df_final[\u001b[38;5;124m'\u001b[39m\u001b[38;5;124mdependents_group\u001b[39m\u001b[38;5;124m'\u001b[39m] \u001b[38;5;241m==\u001b[39m \u001b[38;5;124m'\u001b[39m\u001b[38;5;124mSingle_Household\u001b[39m\u001b[38;5;124m'\u001b[39m), \n\u001b[1;32m      7\u001b[0m     \u001b[38;5;124m'\u001b[39m\u001b[38;5;124mcustomer_profile\u001b[39m\u001b[38;5;124m'\u001b[39m\n\u001b[1;32m      8\u001b[0m ] \u001b[38;5;241m=\u001b[39m \u001b[38;5;124m'\u001b[39m\u001b[38;5;124mYoung Single\u001b[39m\u001b[38;5;124m'\u001b[39m\n\u001b[1;32m     10\u001b[0m df_final\u001b[38;5;241m.\u001b[39mloc[\n\u001b[1;32m     11\u001b[0m     (df_final[\u001b[38;5;124m'\u001b[39m\u001b[38;5;124mage_group\u001b[39m\u001b[38;5;124m'\u001b[39m] \u001b[38;5;241m==\u001b[39m \u001b[38;5;124m'\u001b[39m\u001b[38;5;124mAdult\u001b[39m\u001b[38;5;124m'\u001b[39m) \u001b[38;5;241m&\u001b[39m \n\u001b[1;32m     12\u001b[0m     (df_final[\u001b[38;5;124m'\u001b[39m\u001b[38;5;124mincome_group\u001b[39m\u001b[38;5;124m'\u001b[39m] \u001b[38;5;241m==\u001b[39m \u001b[38;5;124m'\u001b[39m\u001b[38;5;124mmiddle_income\u001b[39m\u001b[38;5;124m'\u001b[39m) \u001b[38;5;241m&\u001b[39m \n\u001b[1;32m     13\u001b[0m     (df_final[\u001b[38;5;124m'\u001b[39m\u001b[38;5;124mdependents_group\u001b[39m\u001b[38;5;124m'\u001b[39m] \u001b[38;5;241m==\u001b[39m \u001b[38;5;124m'\u001b[39m\u001b[38;5;124mParent_Household\u001b[39m\u001b[38;5;124m'\u001b[39m), \n\u001b[1;32m     14\u001b[0m     \u001b[38;5;124m'\u001b[39m\u001b[38;5;124mcustomer_profile\u001b[39m\u001b[38;5;124m'\u001b[39m\n\u001b[1;32m     15\u001b[0m ] \u001b[38;5;241m=\u001b[39m \u001b[38;5;124m'\u001b[39m\u001b[38;5;124mYoung Family\u001b[39m\u001b[38;5;124m'\u001b[39m\n\u001b[1;32m     17\u001b[0m df_final\u001b[38;5;241m.\u001b[39mloc[\n\u001b[1;32m     18\u001b[0m     (df_final[\u001b[38;5;124m'\u001b[39m\u001b[38;5;124mage_group\u001b[39m\u001b[38;5;124m'\u001b[39m] \u001b[38;5;241m==\u001b[39m \u001b[38;5;124m'\u001b[39m\u001b[38;5;124mMiddle-aged\u001b[39m\u001b[38;5;124m'\u001b[39m) \u001b[38;5;241m&\u001b[39m \n\u001b[1;32m     19\u001b[0m     (df_final[\u001b[38;5;124m'\u001b[39m\u001b[38;5;124mincome_group\u001b[39m\u001b[38;5;124m'\u001b[39m] \u001b[38;5;241m==\u001b[39m \u001b[38;5;124m'\u001b[39m\u001b[38;5;124mhigh_income\u001b[39m\u001b[38;5;124m'\u001b[39m) \u001b[38;5;241m&\u001b[39m \n\u001b[1;32m     20\u001b[0m     (df_final[\u001b[38;5;124m'\u001b[39m\u001b[38;5;124mdependents_group\u001b[39m\u001b[38;5;124m'\u001b[39m] \u001b[38;5;241m==\u001b[39m \u001b[38;5;124m'\u001b[39m\u001b[38;5;124mParent_Household\u001b[39m\u001b[38;5;124m'\u001b[39m), \n\u001b[1;32m     21\u001b[0m     \u001b[38;5;124m'\u001b[39m\u001b[38;5;124mcustomer_profile\u001b[39m\u001b[38;5;124m'\u001b[39m\n\u001b[1;32m     22\u001b[0m ] \u001b[38;5;241m=\u001b[39m \u001b[38;5;124m'\u001b[39m\u001b[38;5;124mMiddle-Aged Professional\u001b[39m\u001b[38;5;124m'\u001b[39m\n",
      "File \u001b[0;32m~/miniconda3/lib/python3.12/site-packages/pandas/core/frame.py:4102\u001b[0m, in \u001b[0;36mDataFrame.__getitem__\u001b[0;34m(self, key)\u001b[0m\n\u001b[1;32m   4100\u001b[0m \u001b[38;5;28;01mif\u001b[39;00m \u001b[38;5;28mself\u001b[39m\u001b[38;5;241m.\u001b[39mcolumns\u001b[38;5;241m.\u001b[39mnlevels \u001b[38;5;241m>\u001b[39m \u001b[38;5;241m1\u001b[39m:\n\u001b[1;32m   4101\u001b[0m     \u001b[38;5;28;01mreturn\u001b[39;00m \u001b[38;5;28mself\u001b[39m\u001b[38;5;241m.\u001b[39m_getitem_multilevel(key)\n\u001b[0;32m-> 4102\u001b[0m indexer \u001b[38;5;241m=\u001b[39m \u001b[38;5;28mself\u001b[39m\u001b[38;5;241m.\u001b[39mcolumns\u001b[38;5;241m.\u001b[39mget_loc(key)\n\u001b[1;32m   4103\u001b[0m \u001b[38;5;28;01mif\u001b[39;00m is_integer(indexer):\n\u001b[1;32m   4104\u001b[0m     indexer \u001b[38;5;241m=\u001b[39m [indexer]\n",
      "File \u001b[0;32m~/miniconda3/lib/python3.12/site-packages/pandas/core/indexes/base.py:3812\u001b[0m, in \u001b[0;36mIndex.get_loc\u001b[0;34m(self, key)\u001b[0m\n\u001b[1;32m   3807\u001b[0m     \u001b[38;5;28;01mif\u001b[39;00m \u001b[38;5;28misinstance\u001b[39m(casted_key, \u001b[38;5;28mslice\u001b[39m) \u001b[38;5;129;01mor\u001b[39;00m (\n\u001b[1;32m   3808\u001b[0m         \u001b[38;5;28misinstance\u001b[39m(casted_key, abc\u001b[38;5;241m.\u001b[39mIterable)\n\u001b[1;32m   3809\u001b[0m         \u001b[38;5;129;01mand\u001b[39;00m \u001b[38;5;28many\u001b[39m(\u001b[38;5;28misinstance\u001b[39m(x, \u001b[38;5;28mslice\u001b[39m) \u001b[38;5;28;01mfor\u001b[39;00m x \u001b[38;5;129;01min\u001b[39;00m casted_key)\n\u001b[1;32m   3810\u001b[0m     ):\n\u001b[1;32m   3811\u001b[0m         \u001b[38;5;28;01mraise\u001b[39;00m InvalidIndexError(key)\n\u001b[0;32m-> 3812\u001b[0m     \u001b[38;5;28;01mraise\u001b[39;00m \u001b[38;5;167;01mKeyError\u001b[39;00m(key) \u001b[38;5;28;01mfrom\u001b[39;00m \u001b[38;5;21;01merr\u001b[39;00m\n\u001b[1;32m   3813\u001b[0m \u001b[38;5;28;01mexcept\u001b[39;00m \u001b[38;5;167;01mTypeError\u001b[39;00m:\n\u001b[1;32m   3814\u001b[0m     \u001b[38;5;66;03m# If we have a listlike key, _check_indexing_error will raise\u001b[39;00m\n\u001b[1;32m   3815\u001b[0m     \u001b[38;5;66;03m#  InvalidIndexError. Otherwise we fall through and re-raise\u001b[39;00m\n\u001b[1;32m   3816\u001b[0m     \u001b[38;5;66;03m#  the TypeError.\u001b[39;00m\n\u001b[1;32m   3817\u001b[0m     \u001b[38;5;28mself\u001b[39m\u001b[38;5;241m.\u001b[39m_check_indexing_error(key)\n",
      "\u001b[0;31mKeyError\u001b[0m: 'income_group'"
     ]
    }
   ],
   "source": [
    "# Assigning basic customer profiles based on combinations\n",
    "\n",
    "df_final.loc[\n",
    "    (df_final['age_group'] == 'Young_adult') & \n",
    "    (df_final['income_group'].isin(['low_income', 'middle_income'])) & \n",
    "    (df_final['dependents_group'] == 'Single_Household'), \n",
    "    'customer_profile'\n",
    "] = 'Young Single'\n",
    "\n",
    "df_final.loc[\n",
    "    (df_final['age_group'] == 'Adult') & \n",
    "    (df_final['income_group'] == 'middle_income') & \n",
    "    (df_final['dependents_group'] == 'Parent_Household'), \n",
    "    'customer_profile'\n",
    "] = 'Young Family'\n",
    "\n",
    "df_final.loc[\n",
    "    (df_final['age_group'] == 'Middle-aged') & \n",
    "    (df_final['income_group'] == 'high_income') & \n",
    "    (df_final['dependents_group'] == 'Parent_Household'), \n",
    "    'customer_profile'\n",
    "] = 'Middle-Aged Professional'\n",
    "\n",
    "df_final.loc[\n",
    "    (df_final['age_group'] == 'Senior') & \n",
    "    (df_final['income_group'].isin(['low_income', 'middle_income'])) & \n",
    "    (df_final['dependents_group'] == 'Single_Household'), \n",
    "    'customer_profile'\n",
    "] = 'Retired Senior'\n",
    "\n",
    "df_final.loc[\n",
    "    (df_final['age_group'] == 'Senior') & \n",
    "    (df_final['income_group'] == 'high_income') & \n",
    "    (df_final['dependents_group'] == 'Single_Household'), \n",
    "    'customer_profile'\n",
    "] = 'Affluent Empty Nester'\n",
    "\n",
    "df_final['customer_profile'].fillna('Other', inplace=True)"
   ]
  },
  {
   "cell_type": "code",
   "execution_count": null,
   "id": "5629d178-b803-4034-8fa5-067d583ac0a9",
   "metadata": {},
   "outputs": [],
   "source": [
    "# Printing frequency\n",
    "df_final['customer_profile'].value_counts(dropna = False)"
   ]
  },
  {
   "cell_type": "code",
   "execution_count": null,
   "id": "0d467758-acc4-4f36-9f78-1c57ac4b2945",
   "metadata": {},
   "outputs": [],
   "source": [
    "# Multiple columns with head() function\n",
    "df_final[['customer_profile', 'income_group', 'dependents_group', 'age_group']].head(100)"
   ]
  },
  {
   "cell_type": "markdown",
   "id": "0d251da5-3b6f-490a-8cf2-dcc804fdd46f",
   "metadata": {},
   "source": [
    "We have a high number of \"Other\" profiles, we would have to check with the Marketing Department if they want the customer profiles to be like that or set up in different ways."
   ]
  },
  {
   "cell_type": "code",
   "execution_count": null,
   "id": "d10bd242-a9ef-4b44-a594-6efd150b34b0",
   "metadata": {},
   "outputs": [],
   "source": [
    "# Checking most common combinations in the 'Other' category\n",
    "df_final[df_final['customer_profile'] == 'Other'].groupby(\n",
    "    ['age_group', 'income_group', 'dependents_group']\n",
    ").size().sort_values(ascending=False)"
   ]
  },
  {
   "cell_type": "markdown",
   "id": "e770e703-675a-41fd-b872-5b7181a38ff8",
   "metadata": {},
   "source": [
    "Possible other profiles would be: \n",
    "- Seniors with mid income and kids at home\n",
    "- Classig working family segment\n",
    "- Young adults starting a family\n",
    "- Solo, stable earners\n",
    "- Affluent older parents"
   ]
  },
  {
   "cell_type": "markdown",
   "id": "307f32ce-d084-4b2f-975b-93f2a6f80463",
   "metadata": {
    "jp-MarkdownHeadingCollapsed": true
   },
   "source": [
    "#### 4.4.7 Visual Distribution of Profiles"
   ]
  },
  {
   "cell_type": "code",
   "execution_count": null,
   "id": "d4c66cf6-80f7-43d8-93cc-608ab18d2429",
   "metadata": {},
   "outputs": [],
   "source": [
    "# Creating the bar chart\n",
    "plt.figure(figsize=(10, 6))\n",
    "profile_counts = df_final['customer_profile'].value_counts().sort_values(ascending=False)\n",
    "sns.barplot(x=profile_counts.index, y=profile_counts.values)\n",
    "\n",
    "# Adding labels and title\n",
    "plt.title('Distribution of Customer Profiles')\n",
    "plt.xlabel('Customer Profile')\n",
    "plt.ylabel('Number of Observations')\n",
    "plt.xticks(rotation=45)\n",
    "plt.tight_layout()\n",
    "\n",
    "# Saving the figure\n",
    "plt.savefig(os.path.join(path, '04 Analysis', 'Visualisations', 'bar_customer_profiles.png'))\n",
    "\n",
    "# Showing the plot\n",
    "plt.show()"
   ]
  },
  {
   "cell_type": "code",
   "execution_count": null,
   "id": "a000411e-6368-4315-b87f-58956a942ebb",
   "metadata": {},
   "outputs": [],
   "source": [
    "# Exporting data frame with customer profiles\n",
    "df_final.to_pickle(os.path.join(path, '02 Data', 'Prepared Data', 'df_final_profiles.pkl'))"
   ]
  },
  {
   "cell_type": "markdown",
   "id": "bf08b09f-57c0-4679-a0db-42695b42d9a0",
   "metadata": {
    "jp-MarkdownHeadingCollapsed": true
   },
   "source": [
    "#### 4.4.8 Aggregating max, mean and min variables on customer-profile levels for usage frequency and expenditure"
   ]
  },
  {
   "cell_type": "code",
   "execution_count": null,
   "id": "e81edeff-5d21-4909-8272-c0e69c063a5f",
   "metadata": {},
   "outputs": [],
   "source": [
    "# Groupping by customer profile\n",
    "profile_summary = df_final.groupby('customer_profile').agg(\n",
    "    max_orders=('order_number', 'max'),\n",
    "    mean_orders=('order_number', 'mean'),\n",
    "    min_orders=('order_number', 'min'),\n",
    "    max_spending=('prices', 'max'),\n",
    "    mean_spending=('prices', 'mean'),\n",
    "    min_spending=('prices', 'min')\n",
    ")\n",
    "\n",
    "# Round for cleaner output\n",
    "profile_summary = profile_summary.round(2)\n",
    "\n",
    "# Displaying the summary\n",
    "print(profile_summary)"
   ]
  },
  {
   "cell_type": "markdown",
   "id": "80718ed5-f40b-4fea-8498-902394a4166a",
   "metadata": {},
   "source": [
    "#### 4.4.9 Comparing Customer Profiles with Regions and Departments"
   ]
  },
  {
   "cell_type": "code",
   "execution_count": null,
   "id": "99209997-2d09-4415-ac97-7247dde79e61",
   "metadata": {},
   "outputs": [],
   "source": [
    "# Counting number of rows per profile and region\n",
    "profile_region = df_final.groupby(['customer_profile', 'region'])['user_id'].count().unstack()\n",
    "\n",
    "# Plotting as heatmap\n",
    "import seaborn as sns\n",
    "import matplotlib.pyplot as plt\n",
    "\n",
    "plt.figure(figsize=(10, 6))\n",
    "sns.heatmap(profile_region, cmap='YlGnBu', annot=True, fmt='g')\n",
    "plt.title('Customer Profiles by Region')\n",
    "plt.ylabel('Customer Profile')\n",
    "plt.xlabel('Region')\n",
    "plt.tight_layout()\n",
    "plt.savefig(os.path.join(path, '04 Analysis', 'Visualisations', 'heatmap_profiles_by_region.png'))\n",
    "plt.show()"
   ]
  },
  {
   "cell_type": "markdown",
   "id": "1715e199-9c19-43e7-a5e5-9f22df9eeea3",
   "metadata": {},
   "source": [
    "The big \"Other\" category is making it harder to see the other distributions but that would be changed after talking with a seniour data analyst or/and the marketing department. \n",
    "Though it seems pretty clear that families seem to be more in the South Region."
   ]
  },
  {
   "cell_type": "code",
   "execution_count": null,
   "id": "e7dfcdcd-0154-46e5-9927-efc765686b30",
   "metadata": {},
   "outputs": [],
   "source": [
    "# Counting how often each profile buys from each department\n",
    "profile_dept = df_final.groupby(['customer_profile', 'grocery_category'])['product_id'].count().unstack().fillna(0)\n",
    "\n",
    "# Plotting top 6 departments to keep it readable\n",
    "top_depts = profile_dept.sum().sort_values(ascending=False).head(6).index\n",
    "profile_dept_subset = profile_dept[top_depts]\n",
    "\n",
    "# Plotting as grouped bar chart\n",
    "profile_dept_subset.plot(kind='bar', figsize=(12, 6), colormap='tab10')\n",
    "plt.title('Top 6 Departments by Customer Profile')\n",
    "plt.ylabel('Number of Products Bought')\n",
    "plt.xlabel('Customer Profile')\n",
    "plt.xticks(rotation=45)\n",
    "plt.legend(title='Grocery Category')\n",
    "plt.tight_layout()\n",
    "plt.savefig(os.path.join(path, '04 Analysis', 'Visualisations', 'bar_profiles_by_department.png'))\n",
    "plt.show()"
   ]
  },
  {
   "cell_type": "markdown",
   "id": "304307b7-66aa-413b-bda4-c1e68e36d0ae",
   "metadata": {},
   "source": [
    "Here also the \"Other\" profile makes it a bit difficult do see the others but it seems clear that especially produce and dairy eggs are very popular with families, as expected."
   ]
  },
  {
   "cell_type": "markdown",
   "id": "88893433-c3d1-4eea-9534-095972577397",
   "metadata": {},
   "source": [
    "### 5. Additional Graphs for Report"
   ]
  },
  {
   "cell_type": "markdown",
   "id": "3d2ce789-142b-47db-a2ac-482c43036f9f",
   "metadata": {},
   "source": [
    "#### 5.1 Distribution of Products by Price Range"
   ]
  },
  {
   "cell_type": "code",
   "execution_count": 25,
   "id": "df118408-16fc-443e-88a4-05c4cb9ba4a1",
   "metadata": {},
   "outputs": [],
   "source": [
    "# Creating column for price ranges - somehow it's missing\n",
    "\n",
    "df_final.loc[df_final['prices'] > 15, 'price_range_loc'] = 'High-range product'\n",
    "df_final.loc[(df_final['prices'] <= 15) & (df_final['prices'] > 5), 'price_range_loc'] = 'Mid-range product'\n",
    "df_final.loc[df_final['prices'] <= 5, 'price_range_loc'] = 'Low-range product'"
   ]
  },
  {
   "cell_type": "code",
   "execution_count": 26,
   "id": "948bd04c-9bff-48e6-8db4-0acc4d9419d3",
   "metadata": {},
   "outputs": [
    {
     "data": {
      "text/plain": [
       "price_range_loc\n",
       "Mid-range product     21860860\n",
       "Low-range product     10126321\n",
       "High-range product      417678\n",
       "Name: count, dtype: int64"
      ]
     },
     "execution_count": 26,
     "metadata": {},
     "output_type": "execute_result"
    }
   ],
   "source": [
    "# Checking frequency\n",
    "df_final['price_range_loc'].value_counts(dropna = False)"
   ]
  },
  {
   "cell_type": "code",
   "execution_count": 27,
   "id": "8b17cf11-5572-49ec-8352-bb9baf32acfe",
   "metadata": {},
   "outputs": [
    {
     "name": "stderr",
     "output_type": "stream",
     "text": [
      "/tmp/ipykernel_20841/1563309423.py:4: FutureWarning: \n",
      "\n",
      "Passing `palette` without assigning `hue` is deprecated and will be removed in v0.14.0. Assign the `x` variable to `hue` and set `legend=False` for the same effect.\n",
      "\n",
      "  sns.barplot(x=price_counts.index, y=price_counts.values, palette='colorblind')\n"
     ]
    },
    {
     "data": {
      "image/png": "[encoded data removed]",
      "text/plain": [
       "<Figure size 800x500 with 1 Axes>"
      ]
     },
     "metadata": {},
     "output_type": "display_data"
    }
   ],
   "source": [
    "#Creating Bar Chart Distribution of Products by Price Range\n",
    "price_counts = df_final['price_range_loc'].value_counts().sort_index()\n",
    "\n",
    "plt.figure(figsize=(8, 5))\n",
    "sns.barplot(x=price_counts.index, y=price_counts.values, palette='colorblind')\n",
    "plt.title('Distribution of Products by Price Range')\n",
    "plt.xlabel('Price Range')\n",
    "plt.ylabel('Number of Products')\n",
    "plt.tight_layout()\n",
    "\n",
    "# Saving to Visualisations folder\n",
    "plt.savefig(os.path.join(path, '04 Analysis', 'Visualisations', 'bar_price_range_distribution.png'))\n",
    "\n",
    "plt.show()"
   ]
  },
  {
   "cell_type": "markdown",
   "id": "48ce5676-9cab-4ebd-bb0b-f3e8833a8856",
   "metadata": {
    "jp-MarkdownHeadingCollapsed": true
   },
   "source": [
    "#### 5.2 Most Frequently Ordered Departments"
   ]
  },
  {
   "cell_type": "code",
   "execution_count": 33,
   "id": "3389b46d-0c0e-4bbf-8a58-f4439c18519e",
   "metadata": {},
   "outputs": [
    {
     "name": "stderr",
     "output_type": "stream",
     "text": [
      "/tmp/ipykernel_20841/4218498658.py:5: FutureWarning: \n",
      "\n",
      "Passing `palette` without assigning `hue` is deprecated and will be removed in v0.14.0. Assign the `y` variable to `hue` and set `legend=False` for the same effect.\n",
      "\n",
      "  sns.barplot(x=dept_counts.values, y=dept_counts.index, palette='colorblind')\n"
     ]
    },
    {
     "data": {
      "image/png": "[encoded data removed]",
      "text/plain": [
       "<Figure size 1000x800 with 1 Axes>"
      ]
     },
     "metadata": {},
     "output_type": "display_data"
    }
   ],
   "source": [
    "# Creating horizontal Bar chart of Most Frequently Ordered Departments\n",
    "dept_counts = df_final['grocery_category'].value_counts().sort_values()\n",
    "\n",
    "plt.figure(figsize=(10, 8))\n",
    "sns.barplot(x=dept_counts.values, y=dept_counts.index, palette='colorblind')\n",
    "plt.title('Most Frequently Ordered Departments')\n",
    "plt.xlabel('Number of Orders')\n",
    "plt.ylabel('Department')\n",
    "plt.tight_layout()\n",
    "\n",
    "# Saving graph\n",
    "plt.savefig(os.path.join(path, '04 Analysis', 'Visualisations', 'bar_most_ordered_departments.png'))\n",
    "plt.show()"
   ]
  },
  {
   "cell_type": "markdown",
   "id": "dadf7145-1e5c-468b-b20d-a5a262ea5f2f",
   "metadata": {
    "jp-MarkdownHeadingCollapsed": true
   },
   "source": [
    "#### 5.3 Brand Loyalty Distribution"
   ]
  },
  {
   "cell_type": "code",
   "execution_count": 32,
   "id": "5db220c6-2c17-4c3c-88be-258ca1050ecc",
   "metadata": {},
   "outputs": [
    {
     "name": "stderr",
     "output_type": "stream",
     "text": [
      "/tmp/ipykernel_20841/4153315089.py:4: FutureWarning: \n",
      "\n",
      "Passing `palette` without assigning `hue` is deprecated and will be removed in v0.14.0. Assign the `x` variable to `hue` and set `legend=False` for the same effect.\n",
      "\n",
      "  sns.barplot(x=loyalty_counts.index, y=loyalty_counts.values, palette='colorblind')\n"
     ]
    },
    {
     "data": {
      "image/png": "[encoded data removed]",
      "text/plain": [
       "<Figure size 800x500 with 1 Axes>"
      ]
     },
     "metadata": {},
     "output_type": "display_data"
    }
   ],
   "source": [
    "# Creating Bar chart Distribution of Customers by Loyalty Status\n",
    "loyalty_counts = df_final['loyalty_flag'].value_counts()\n",
    "\n",
    "plt.figure(figsize=(8, 5))\n",
    "sns.barplot(x=loyalty_counts.index, y=loyalty_counts.values, palette='colorblind')\n",
    "plt.title('Distribution of Customers by Loyalty Status')\n",
    "plt.xlabel('Loyalty Status')\n",
    "plt.ylabel('Number of Customers')\n",
    "plt.tight_layout()\n",
    "\n",
    "# Saving Bar chart \n",
    "plt.savefig(os.path.join(path, '04 Analysis', 'Visualisations', 'bar_loyalty_distribution.png'))\n",
    "plt.show()\n"
   ]
  }
 ],
 "metadata": {
  "kernelspec": {
   "display_name": "Python 3 (ipykernel)",
   "language": "python",
   "name": "python3"
  },
  "language_info": {
   "codemirror_mode": {
    "name": "ipython",
    "version": 3
   },
   "file_extension": ".py",
   "mimetype": "text/x-python",
   "name": "python",
   "nbconvert_exporter": "python",
   "pygments_lexer": "ipython3",
   "version": "3.12.9"
  }
 },
 "nbformat": 4,
 "nbformat_minor": 5
}
